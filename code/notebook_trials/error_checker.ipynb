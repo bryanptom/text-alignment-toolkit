{
 "cells": [
  {
   "cell_type": "code",
   "execution_count": null,
   "id": "11cfe061",
   "metadata": {},
   "outputs": [],
   "source": [
    "import layoutparser as lp\n",
    "import json\n",
    "import numpy as np\n",
    "from tqdm import tqdm\n",
    "import pytesseract\n",
    "import cv2\n",
    "import editdistance\n",
    "\n",
    "import matplotlib.pyplot as plt\n",
    "%matplotlib inline\n",
    "import re\n",
    "import os\n",
    "from collections import defaultdict"
   ]
  },
  {
   "cell_type": "markdown",
   "id": "426eaec5",
   "metadata": {},
   "source": [
    "Load in both \"Gold Standard\" and raw OCR predictions"
   ]
  },
  {
   "cell_type": "code",
   "execution_count": null,
   "id": "837be48e",
   "metadata": {},
   "outputs": [],
   "source": [
    "with open(r'../data/image_ocr_results.json', 'r') as infile:\n",
    "    ocr_preds = json.load(infile)\n",
    "    \n",
    "with open(r'../data/chronam_gt_coco.json', 'r') as infile:\n",
    "    true_text = json.load(infile)"
   ]
  },
  {
   "cell_type": "markdown",
   "id": "c99c397a",
   "metadata": {},
   "source": [
    "Flatten out both the jsons so both are just Annotations ID -> text in bounding box"
   ]
  },
  {
   "cell_type": "code",
   "execution_count": null,
   "id": "d8f6924d",
   "metadata": {},
   "outputs": [],
   "source": [
    "flat_ocr_preds = {}\n",
    "for img in ocr_preds.keys():\n",
    "    for x in ocr_preds[img].keys():\n",
    "        flat_ocr_preds[int(x)] = ocr_preds[img][x]"
   ]
  },
  {
   "cell_type": "code",
   "execution_count": null,
   "id": "edc690ee",
   "metadata": {},
   "outputs": [],
   "source": [
    "flat_true_text = {}\n",
    "for anno in true_text['annotations']:\n",
    "    flat_true_text[int(anno['id'])] = anno['text']"
   ]
  },
  {
   "cell_type": "code",
   "execution_count": null,
   "id": "ad7a9f4d",
   "metadata": {},
   "outputs": [],
   "source": [
    "test_true = flat_true_text[1]\n",
    "test_ocr = flat_ocr_preds[1]"
   ]
  },
  {
   "cell_type": "code",
   "execution_count": null,
   "id": "f0f9abee",
   "metadata": {},
   "outputs": [],
   "source": [
    "pattern = re.compile('[^A-Za-z0-9\\s]+')"
   ]
  },
  {
   "cell_type": "code",
   "execution_count": null,
   "id": "4dea258b",
   "metadata": {},
   "outputs": [],
   "source": [
    "test_filtered = pattern.sub('', test_true)\n",
    "test_true = re.sub('\\s', ' ', test_filtered)"
   ]
  },
  {
   "cell_type": "code",
   "execution_count": null,
   "id": "fa08e259",
   "metadata": {},
   "outputs": [],
   "source": [
    "test_filtered = pattern.sub('', test_ocr)\n",
    "test_ocr = re.sub('\\s', ' ', test_filtered)\n",
    "print(test_ocr)"
   ]
  },
  {
   "cell_type": "code",
   "execution_count": null,
   "id": "186bbc01",
   "metadata": {},
   "outputs": [],
   "source": [
    "print(editdistance.eval(test_ocr, test_true))"
   ]
  },
  {
   "cell_type": "code",
   "execution_count": null,
   "id": "e5795b75",
   "metadata": {},
   "outputs": [],
   "source": [
    "print(len(test_ocr))"
   ]
  },
  {
   "cell_type": "code",
   "execution_count": null,
   "id": "9f17c45a",
   "metadata": {},
   "outputs": [],
   "source": [
    "print(len(test_true))"
   ]
  },
  {
   "cell_type": "code",
   "execution_count": null,
   "id": "9455e875",
   "metadata": {},
   "outputs": [],
   "source": []
  }
 ],
 "metadata": {
  "kernelspec": {
   "display_name": "Python 3 (ipykernel)",
   "language": "python",
   "name": "python3"
  },
  "language_info": {
   "codemirror_mode": {
    "name": "ipython",
    "version": 3
   },
   "file_extension": ".py",
   "mimetype": "text/x-python",
   "name": "python",
   "nbconvert_exporter": "python",
   "pygments_lexer": "ipython3",
   "version": "3.8.13"
  }
 },
 "nbformat": 4,
 "nbformat_minor": 5
}
