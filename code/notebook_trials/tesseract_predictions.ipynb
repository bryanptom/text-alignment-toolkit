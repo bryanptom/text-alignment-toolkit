{
 "cells": [
  {
   "cell_type": "code",
   "execution_count": null,
   "id": "6f0f6953",
   "metadata": {},
   "outputs": [],
   "source": [
    "import layoutparser as lp\n",
    "import json\n",
    "import numpy as np\n",
    "from tqdm import tqdm\n",
    "import pytesseract\n",
    "import cv2\n",
    "\n",
    "import matplotlib.pyplot as plt\n",
    "%matplotlib inline\n",
    "import os\n",
    "from collections import defaultdict\n",
    "from matplotlib import pyplot as plt\n",
    "\n",
    "pytesseract.pytesseract.tesseract_cmd = r'C:\\Program Files\\Tesseract-OCR-5-0\\tesseract.exe'\n",
    "ocr_agent = lp.TesseractAgent(languages = 'eng')"
   ]
  },
  {
   "cell_type": "code",
   "execution_count": null,
   "id": "5a5eded6",
   "metadata": {},
   "outputs": [],
   "source": [
    "import sys\n",
    "sys.path.insert(1, '../../neuspell')\n",
    "import neuspell\n",
    "from neuspell import available_checkers, BertChecker"
   ]
  },
  {
   "cell_type": "code",
   "execution_count": null,
   "id": "bb03a7da",
   "metadata": {},
   "outputs": [],
   "source": [
    "print(f'available checkers: {neuspell.available_checkers()}')"
   ]
  },
  {
   "cell_type": "code",
   "execution_count": null,
   "id": "b34c0ad4",
   "metadata": {},
   "outputs": [],
   "source": [
    "checker = BertChecker()\n",
    "checker.from_pretrained()"
   ]
  },
  {
   "cell_type": "code",
   "execution_count": null,
   "id": "64dbc323",
   "metadata": {},
   "outputs": [],
   "source": [
    "def apply_brightness_contrast(input_img, brightness = 0, contrast = 0):\n",
    "    \n",
    "    if brightness != 0:\n",
    "        if brightness > 0:\n",
    "            shadow = brightness\n",
    "            highlight = 255\n",
    "        else:\n",
    "            shadow = 0\n",
    "            highlight = 255 + brightness\n",
    "        alpha_b = (highlight - shadow)/255\n",
    "        gamma_b = shadow\n",
    "        \n",
    "        buf = cv2.addWeighted(input_img, alpha_b, input_img, 0, gamma_b)\n",
    "    else:\n",
    "        buf = input_img.copy()\n",
    "    \n",
    "    if contrast != 0:\n",
    "        f = 131*(contrast + 127)/(127*(131-contrast))\n",
    "        alpha_c = f\n",
    "        gamma_c = 127*(1-f)\n",
    "        \n",
    "        buf = cv2.addWeighted(buf, alpha_c, buf, 0, gamma_c)\n",
    "\n",
    "    return buf"
   ]
  },
  {
   "cell_type": "markdown",
   "id": "c0f1d1d2",
   "metadata": {},
   "source": [
    "Load in Data from JSON"
   ]
  },
  {
   "cell_type": "code",
   "execution_count": null,
   "id": "c55c5197",
   "metadata": {},
   "outputs": [],
   "source": [
    "with open(r'../data/chronam_gt_coco.json', 'r') as infile:\n",
    "    coco = json.load(infile)"
   ]
  },
  {
   "cell_type": "code",
   "execution_count": null,
   "id": "d11351a2",
   "metadata": {},
   "outputs": [],
   "source": [
    "print(coco.keys())"
   ]
  },
  {
   "cell_type": "code",
   "execution_count": null,
   "id": "0a06f7e3",
   "metadata": {},
   "outputs": [],
   "source": [
    "#Create a dict mapping images to a dict of associated annotations, keyed by anno id\n",
    "image_boxes = defaultdict(dict)\n",
    "for anno in coco['annotations']:\n",
    "    image_boxes[anno['image_id']][anno['id']] = anno"
   ]
  },
  {
   "cell_type": "markdown",
   "id": "7652eb16",
   "metadata": {},
   "source": [
    "Function to apply tesseract to each of the images, getting text from each annotated bounding box"
   ]
  },
  {
   "cell_type": "code",
   "execution_count": null,
   "id": "b2a09fee",
   "metadata": {},
   "outputs": [],
   "source": [
    "def parse_newspaper_boxes(image_path, annotations):\n",
    "    \"\"\"\n",
    "    Extract the text within each annotation section of a newspaper scan \n",
    "    \n",
    "    input: image_path: path to image\n",
    "            annotations: list of annotation objects to transcribe text from\n",
    "            \n",
    "    return: \n",
    "    \"\"\"\n",
    "    image = cv2.imread(f'../data/images/{image_path}')\n",
    "    image = apply_brightness_contrast(image, contrast = 30)\n",
    "    \n",
    "    res = ocr_agent.detect(image, return_response=True)\n",
    "    layout = ocr_agent.gather_data(res, agg_level=lp.TesseractFeatureType.WORD)\n",
    "    \n",
    "    ano_texts = []\n",
    "    for i, ano in enumerate(annotations):\n",
    "        \n",
    "        x0, y0, w, h = ano['bbox']\n",
    "        box_text = layout.filter_by(\n",
    "            lp.Rectangle(x_1=x0, y_1=y0, x_2=x0 + w, y_2=y0 + h)\n",
    "        ).get_texts()\n",
    "        \n",
    "        if not box_text:\n",
    "            box_text = ''\n",
    "        else:\n",
    "            box_text = ' '.join(box_text)\n",
    "        \n",
    "        ano_texts.append({'ano_id': ano['id'],\n",
    "                          'text': box_text})        \n",
    "    return {ano['ano_id']: ano['text'] for ano in ano_texts}"
   ]
  },
  {
   "cell_type": "code",
   "execution_count": null,
   "id": "dd24b040",
   "metadata": {},
   "outputs": [],
   "source": [
    "image_ids = []\n",
    "image_ocr_results = {}\n",
    "for image in tqdm(coco['images']):\n",
    "    image_ids.append(image['id'])\n",
    "    image_ocr_results[image['id']] = parse_newspaper_boxes(image['file_name'], image_boxes[image['id']].values())"
   ]
  },
  {
   "cell_type": "markdown",
   "id": "f5f1ae86",
   "metadata": {},
   "source": [
    "Save the transcribed results to file"
   ]
  },
  {
   "cell_type": "code",
   "execution_count": null,
   "id": "5b8188d0",
   "metadata": {},
   "outputs": [],
   "source": [
    "with open(r'../data/image_ocr_results.json', 'w', encoding = 'utf8') as outfile:\n",
    "    json.dump(image_ocr_results, outfile, indent = 4)"
   ]
  },
  {
   "cell_type": "code",
   "execution_count": null,
   "id": "df78de14",
   "metadata": {},
   "outputs": [],
   "source": [
    "print(image_ocr_results[0][107])"
   ]
  },
  {
   "cell_type": "code",
   "execution_count": null,
   "id": "f38d3168",
   "metadata": {},
   "outputs": [],
   "source": []
  }
 ],
 "metadata": {
  "kernelspec": {
   "display_name": "Python 3 (ipykernel)",
   "language": "python",
   "name": "python3"
  },
  "language_info": {
   "codemirror_mode": {
    "name": "ipython",
    "version": 3
   },
   "file_extension": ".py",
   "mimetype": "text/x-python",
   "name": "python",
   "nbconvert_exporter": "python",
   "pygments_lexer": "ipython3",
   "version": "3.8.13"
  }
 },
 "nbformat": 4,
 "nbformat_minor": 5
}
