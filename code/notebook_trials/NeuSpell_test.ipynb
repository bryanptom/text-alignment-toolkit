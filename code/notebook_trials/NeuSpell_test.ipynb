{
 "cells": [
  {
   "cell_type": "code",
   "execution_count": null,
   "id": "1a34368f",
   "metadata": {},
   "outputs": [],
   "source": [
    "import sys\n",
    "sys.path.insert(1, '../../neuspell')\n",
    "import neuspell\n",
    "from neuspell import available_checkers, BertChecker"
   ]
  },
  {
   "cell_type": "code",
   "execution_count": null,
   "id": "2a9696a5",
   "metadata": {
    "scrolled": true
   },
   "outputs": [],
   "source": [
    "print(f'available checkers: {neuspell.available_checkers()}')"
   ]
  },
  {
   "cell_type": "code",
   "execution_count": null,
   "id": "57056b55",
   "metadata": {},
   "outputs": [],
   "source": [
    "neuspell.seq_modeling.downloads.download_pretrained_model(\"_all_\")"
   ]
  },
  {
   "cell_type": "code",
   "execution_count": null,
   "id": "669ad6da",
   "metadata": {},
   "outputs": [],
   "source": [
    "checker = BertChecker()\n",
    "checker.from_pretrained()"
   ]
  },
  {
   "cell_type": "code",
   "execution_count": null,
   "id": "ae5e247f",
   "metadata": {},
   "outputs": [],
   "source": [
    "checker.correct(\"I luk foward to receving your reply\")"
   ]
  },
  {
   "cell_type": "code",
   "execution_count": null,
   "id": "da35e547",
   "metadata": {},
   "outputs": [],
   "source": [
    "from neuspell import SclstmChecker\n",
    "\n",
    "checker = SclstmChecker()\n",
    "checker = checker.add_(\"elmo\", at=\"input\")  # \"elmo\" or \"bert\", \"input\" or \"output\"\n",
    "checker.from_pretrained()"
   ]
  },
  {
   "cell_type": "code",
   "execution_count": null,
   "id": "b525c03a",
   "metadata": {},
   "outputs": [],
   "source": []
  }
 ],
 "metadata": {
  "kernelspec": {
   "display_name": "Python 3 (ipykernel)",
   "language": "python",
   "name": "python3"
  },
  "language_info": {
   "codemirror_mode": {
    "name": "ipython",
    "version": 3
   },
   "file_extension": ".py",
   "mimetype": "text/x-python",
   "name": "python",
   "nbconvert_exporter": "python",
   "pygments_lexer": "ipython3",
   "version": "3.8.13"
  }
 },
 "nbformat": 4,
 "nbformat_minor": 5
}
